{
 "cells": [
  {
   "cell_type": "markdown",
   "metadata": {},
   "source": [
    "# List and Dictionary Hacks\n",
    "> Week 2 Hacks.\n",
    "\n",
    "- title: List and Dictionary Hacks\n",
    "- toc: true\n",
    "- badges: true\n",
    "- author: Tanay Patel\n",
    "- categories: [fastpages]\n",
    "- image: /images/Python-Logo.png\n",
    "- tags: [python,quiz,hacks]"
   ]
  },
  {
   "cell_type": "code",
   "execution_count": 18,
   "metadata": {},
   "outputs": [
    {
     "name": "stdout",
     "output_type": "stream",
     "text": [
      "[{'First Name': 'Tanay', 'Last Name': 'P.', 'DOB': 'July 24', 'Residence': 'San Diego', 'Favorite Food': 'Enchiladas', 'Owns Cars': 'all em because I got racks on racks.'}, {'First Name': 'Yuri', 'Last Name': 'S.', 'DOB': 'January 3', 'Residence': 'San Diego', 'Favorite Food': 'Burgers', 'Family Members': '4', 'Owns Cars': 'none'}]\n"
     ]
    }
   ],
   "source": [
    "InfoDb = []\n",
    "\n",
    "InfoDb.append({\n",
    "    \"First Name\": \"Tanay\",\n",
    "    \"Last Name\": \"P.\",\n",
    "    \"DOB\": \"July 24\",\n",
    "    \"Residence\": \"San Diego\",\n",
    "    \"Favorite Food\":\"Enchiladas\",\n",
    "    \"Owns Cars\": \"all em because I got racks on racks.\"\n",
    "})\n",
    "\n",
    "InfoDb.append({\n",
    "    \"First Name\": \"Yuri\",\n",
    "    \"Last Name\": \"S.\",\n",
    "    \"DOB\": \"January 3\",\n",
    "    \"Residence\": \"San Diego\",\n",
    "    \"Favorite Food\":\"Burgers\",\n",
    "    \"Family Members\": \"4\",\n",
    "    \"Owns Cars\": \"none\"\n",
    "})\n",
    "\n",
    "print(InfoDb)"
   ]
  },
  {
   "cell_type": "code",
   "execution_count": 20,
   "metadata": {},
   "outputs": [
    {
     "name": "stdout",
     "output_type": "stream",
     "text": [
      "{'First Name': 'Tanay', 'Last Name': 'P.', 'DOB': 'July 24', 'Residence': 'San Diego', 'Favorite Food': 'Enchiladas', 'Owns Cars': 'all em because I got racks on racks.'}\n",
      "First Name\n",
      "Tanay\n",
      "Last Name\n",
      "P.\n",
      "DOB\n",
      "July 24\n",
      "Residence\n",
      "San Diego\n",
      "Favorite Food\n",
      "Enchiladas\n",
      "Owns Cars\n",
      "all em because I got racks on racks.\n",
      "{'First Name': 'Yuri', 'Last Name': 'S.', 'DOB': 'January 3', 'Residence': 'San Diego', 'Favorite Food': 'Burgers', 'Family Members': '4', 'Owns Cars': 'none'}\n",
      "First Name\n",
      "Yuri\n",
      "Last Name\n",
      "S.\n",
      "DOB\n",
      "January 3\n",
      "Residence\n",
      "San Diego\n",
      "Favorite Food\n",
      "Burgers\n",
      "Family Members\n",
      "4\n",
      "Owns Cars\n",
      "none\n"
     ]
    }
   ],
   "source": [
    "for elem in InfoDb:\n",
    "    print(elem)\n",
    "    for key in elem:\n",
    "        print(key)\n",
    "        print(elem[key])"
   ]
  },
  {
   "cell_type": "code",
   "execution_count": 21,
   "metadata": {},
   "outputs": [
    {
     "name": "stdout",
     "output_type": "stream",
     "text": [
      "{'First Name': 'Yuri', 'Last Name': 'S.', 'DOB': 'January 3', 'Residence': 'San Diego', 'Favorite Food': 'Burgers', 'Family Members': '4', 'Owns Cars': 'none'}\n",
      "{'First Name': 'Tanay', 'Last Name': 'P.', 'DOB': 'July 24', 'Residence': 'San Diego', 'Favorite Food': 'Enchiladas', 'Owns Cars': 'all em because I got racks on racks.'}\n"
     ]
    }
   ],
   "source": [
    "for i in range(len(InfoDb)):\n",
    "    print(InfoDb[-(i+1)])"
   ]
  },
  {
   "cell_type": "code",
   "execution_count": 7,
   "metadata": {},
   "outputs": [
    {
     "name": "stdout",
     "output_type": "stream",
     "text": [
      "Correct\n",
      "Correct\n",
      "Correct\n",
      "3\n"
     ]
    }
   ],
   "source": [
    "listofdic = ({\n",
    "    \"Bill Russel has won the most NBA championships in history. How many championships has he won?\": \"11\",\n",
    "    \"What was the last year that the Sacramento Kings made the playoffs?\": \"2006\",\n",
    "    \"Which NBA player holds the all-time record for the most total assists?\": \"John Stockton\",\n",
    "})\n",
    "\n",
    "score = 0\n",
    "\n",
    "for key, value in listofdic.items():\n",
    "    questions = input(key)\n",
    "    if questions == value:\n",
    "        print(\"Correct\")\n",
    "        score +=1\n",
    "    else:\n",
    "        print(\"Incorrect\")\n",
    "print(score)"
   ]
  }
 ],
 "metadata": {
  "kernelspec": {
   "display_name": "Python 3.9.12 ('base')",
   "language": "python",
   "name": "python3"
  },
  "language_info": {
   "codemirror_mode": {
    "name": "ipython",
    "version": 3
   },
   "file_extension": ".py",
   "mimetype": "text/x-python",
   "name": "python",
   "nbconvert_exporter": "python",
   "pygments_lexer": "ipython3",
   "version": "3.9.12"
  },
  "orig_nbformat": 4,
  "vscode": {
   "interpreter": {
    "hash": "b792a976fef0b417357a8dccde0bb21ed37e3144aa928915426759a361f9129e"
   }
  }
 },
 "nbformat": 4,
 "nbformat_minor": 2
}
