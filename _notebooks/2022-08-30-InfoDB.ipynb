{
 "cells": [
  {
   "cell_type": "markdown",
   "metadata": {},
   "source": [
    "# List and Dictionary Hacks\n",
    "> Week 2 Hacks.\n",
    "\n",
    "- title: List and Dictionary Hacks\n",
    "- toc: true\n",
    "- badges: true\n",
    "- author: Tanay Patel\n",
    "- categories: [fastpages]\n",
    "- image: /images/Python-Logo.png\n",
    "- tags: [python]"
   ]
  },
  {
   "cell_type": "code",
   "execution_count": 8,
   "metadata": {},
   "outputs": [
    {
     "name": "stdout",
     "output_type": "stream",
     "text": [
      "[{'FirstName': 'Tanay', 'LastName': 'P.', 'DOB': 'July 24', 'Residence': 'San Diego', 'Favorite-Food': 'Enchiladas', 'Owns_Cars': ['all em because I got racks on racks on racks.']}, {'FirstName': 'Yuri', 'LastName': 'S.', 'DOB': 'January 3', 'Residence': 'San Diego', 'Favorite-Food': 'Chicken', 'Family Members': '4', 'Owns_Cars': ['none']}]\n"
     ]
    }
   ],
   "source": [
    "from distutils.log import info\n",
    "\n",
    "InfoDb = []\n",
    "\n",
    "InfoDb.append({\n",
    "    \"FirstName\": \"Tanay\",\n",
    "    \"LastName\": \"P.\",\n",
    "    \"DOB\": \"July 24\",\n",
    "    \"Residence\": \"San Diego\",\n",
    "    \"Favorite-Food\":\"Enchiladas\",\n",
    "    \"Owns_Cars\": [\"all em because I got racks on racks on racks.\"]\n",
    "})\n",
    "\n",
    "InfoDb.append({\n",
    "    \"FirstName\": \"Yuri\",\n",
    "    \"LastName\": \"S.\",\n",
    "    \"DOB\": \"January 3\",\n",
    "    \"Residence\": \"San Diego\",\n",
    "    \"Favorite-Food\":\"Chicken\",\n",
    "    \"Family Members\": \"4\",\n",
    "    \"Owns_Cars\": [\"none\"]\n",
    "})\n",
    "\n",
    "print(InfoDb)"
   ]
  },
  {
   "cell_type": "code",
   "execution_count": 9,
   "metadata": {},
   "outputs": [
    {
     "name": "stdout",
     "output_type": "stream",
     "text": [
      "{'FirstName': 'Tanay', 'LastName': 'P.', 'DOB': 'July 24', 'Residence': 'San Diego', 'Favorite-Food': 'Enchiladas', 'Owns_Cars': ['all em because I got racks on racks on racks.']}\n",
      "FirstName\n",
      "Tanay\n",
      "LastName\n",
      "P.\n",
      "DOB\n",
      "July 24\n",
      "Residence\n",
      "San Diego\n",
      "Favorite-Food\n",
      "Enchiladas\n",
      "Owns_Cars\n",
      "['all em because I got racks on racks on racks.']\n",
      "{'FirstName': 'Yuri', 'LastName': 'S.', 'DOB': 'January 3', 'Residence': 'San Diego', 'Favorite-Food': 'Chicken', 'Family Members': '4', 'Owns_Cars': ['none']}\n",
      "FirstName\n",
      "Yuri\n",
      "LastName\n",
      "S.\n",
      "DOB\n",
      "January 3\n",
      "Residence\n",
      "San Diego\n",
      "Favorite-Food\n",
      "Chicken\n",
      "Family Members\n",
      "4\n",
      "Owns_Cars\n",
      "['none']\n"
     ]
    }
   ],
   "source": [
    "for elem in InfoDb:\n",
    "    print(elem)\n",
    "    for key in elem:\n",
    "        print(key)\n",
    "        print(elem[key])"
   ]
  }
 ],
 "metadata": {
  "kernelspec": {
   "display_name": "Python 3.9.5 64-bit",
   "language": "python",
   "name": "python3"
  },
  "language_info": {
   "codemirror_mode": {
    "name": "ipython",
    "version": 3
   },
   "file_extension": ".py",
   "mimetype": "text/x-python",
   "name": "python",
   "nbconvert_exporter": "python",
   "pygments_lexer": "ipython3",
   "version": "3.9.5"
  },
  "orig_nbformat": 4,
  "vscode": {
   "interpreter": {
    "hash": "f9f85f796d01129d0dd105a088854619f454435301f6ffec2fea96ecbd9be4ac"
   }
  }
 },
 "nbformat": 4,
 "nbformat_minor": 2
}
