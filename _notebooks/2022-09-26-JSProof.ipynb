{
 "cells": [
  {
   "cell_type": "markdown",
   "metadata": {},
   "source": [
    "# Proof of JavaScript\n",
    "> Week 5 Hacks.\n",
    "\n",
    "- title: Proof of JavaScript\n",
    "- toc: true\n",
    "- badges: true\n",
    "- author: Tanay Patel\n",
    "- categories: [javascript,hacks]"
   ]
  },
  {
   "cell_type": "code",
   "execution_count": 6,
   "metadata": {},
   "outputs": [
    {
     "name": "stdout",
     "output_type": "stream",
     "text": [
      "55\n"
     ]
    }
   ],
   "source": [
    "var array = [];\n",
    "\n",
    "function range(arr, arr1) {\n",
    "    var smallest = Math.min(arr);\n",
    "    var biggest = Math.max(arr1);\n",
    "    for (var i = smallest; i <= biggest; i++) {\n",
    "        array.push(i);\n",
    "    }\n",
    "}\n",
    "\n",
    "function sum() {\n",
    "    var total = 0;\n",
    "    for (var i = 0; i < array.length; i++) {\n",
    "        total = total + array[i];\n",
    "    }\n",
    "    return total;\n",
    "}\n",
    "console.log(sum(range(1, 10)));"
   ]
  }
 ],
 "metadata": {
  "kernelspec": {
   "display_name": "JavaScript (Node.js)",
   "language": "javascript",
   "name": "javascript"
  },
  "language_info": {
   "file_extension": ".js",
   "mimetype": "application/javascript",
   "name": "javascript",
   "version": "16.17.1"
  },
  "orig_nbformat": 4
 },
 "nbformat": 4,
 "nbformat_minor": 2
}
