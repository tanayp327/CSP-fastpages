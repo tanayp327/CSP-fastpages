{
 "cells": [
  {
   "attachments": {},
   "cell_type": "markdown",
   "metadata": {},
   "source": [
    "# SASS"
   ]
  },
  {
   "attachments": {},
   "cell_type": "markdown",
   "metadata": {},
   "source": [
    "# Why SASS?\n",
    "\n",
    "SASS is an improvement on CSS in that there are methods of abstraction. It is a **_preprocessor_** language that is **_compiled_** into CSS, which means that **_translated_**, which is what your web browser can read.\n",
    "\n",
    "# SASS vs SCSS\n",
    "As you learn about Sass, you might notice something called Scss. They are basically the same thing except that Scss uses curly braces and semicolons to distinguish between lines. Sass uses indentation and newlines instead.\n",
    "\n",
    "We will be teaching the Scss syntax because it is more commonly used."
   ]
  },
  {
   "attachments": {},
   "cell_type": "markdown",
   "metadata": {},
   "source": [
    "# Getting started\n",
    "\n",
    "A easy way to write SASS and have it preprocessed into CSS is by using a Jekyll powered website, such as GitHub pages or Fastpages.\n",
    "\n",
    "The first step is to clone a GitHub pages repo, such as this [one](https://github.com/lwu1822/sassy_squad).\n",
    "\n",
    "Within the repository, head over to `assets/css/`, and open `style.scss`.\n",
    "\n",
    "This is where you can create your SASS code.\n",
    "\n",
    "To see your CSS-translated SASS code, head over to `_site/assets/css/style.css`\n",
    "\n",
    "Note: You will need to run bundle exec jekyll serve before the _site directory appears.\n",
    "\n",
    "The first few hundred lines are used to style Github's theme. Make sure to scroll to the very bottom to see the SASS code that you wrote, which is in the form of CSS."
   ]
  },
  {
   "attachments": {},
   "cell_type": "markdown",
   "metadata": {},
   "source": [
    "# Nesting\n",
    "\n",
    "- SASS allows for nesting of CSS which makes the code easier to read"
   ]
  },
  {
   "attachments": {},
   "cell_type": "markdown",
   "metadata": {},
   "source": [
    "Without nesting is shown below"
   ]
  },
  {
   "cell_type": "code",
   "execution_count": null,
   "metadata": {
    "vscode": {
     "languageId": "html"
    }
   },
   "outputs": [],
   "source": [
    "nav {\n",
    "  background-color: #333;\n",
    "}\n",
    "\n",
    "nav ul {\n",
    "  list-style: none;\n",
    "}\n",
    "\n",
    "nav ul li {\n",
    "  display: inline-block;\n",
    "}\n",
    "\n",
    "nav ul li a {\n",
    "  color: #fff;\n",
    "  text-decoration: none;\n",
    "}\n"
   ]
  },
  {
   "attachments": {},
   "cell_type": "markdown",
   "metadata": {},
   "source": [
    "SCSS with nesting"
   ]
  },
  {
   "cell_type": "code",
   "execution_count": null,
   "metadata": {
    "vscode": {
     "languageId": "plaintext"
    }
   },
   "outputs": [],
   "source": [
    "nav {\n",
    "  background-color: #333;\n",
    "  \n",
    "  ul {\n",
    "    list-style: none;\n",
    "    \n",
    "    li {\n",
    "      display: inline-block;\n",
    "      \n",
    "      a {\n",
    "        color: #fff;\n",
    "        text-decoration: none;\n",
    "      }\n",
    "    }\n",
    "  }\n",
    "}\n"
   ]
  },
  {
   "attachments": {},
   "cell_type": "markdown",
   "metadata": {},
   "source": [
    "# Mini-hack\n",
    "\n",
    "Write out the SASS equivalent for the following CSS code:\n",
    "\n",
    "```\n",
    ".a .b {\n",
    "    color: green;\n",
    "}\n",
    "\n",
    ".a .c {\n",
    "    color: blue;\n",
    "}\n",
    "```\n"
   ]
  },
  {
   "attachments": {},
   "cell_type": "markdown",
   "metadata": {},
   "source": [
    "```\n",
    ".a {\n",
    "    .c {\n",
    "        color: blue;\n",
    "    }\n",
    "    .b {\n",
    "        color: green;\n",
    "    }\n",
    "}\n",
    "```"
   ]
  },
  {
   "attachments": {},
   "cell_type": "markdown",
   "metadata": {},
   "source": [
    "# Extend/Inheritance\n",
    "\n",
    "What are some similarities that the buttons share? What are the differences?\n",
    "\n",
    "Take notes here\n",
    "\n",
    "- extend is a feature in SASS that allows you to share a set of CSS properties\n",
    "- is useful if you want to reuse code in different selectors\n",
    "- Inheritance means to create a base style and extend it to child selectors"
   ]
  },
  {
   "attachments": {},
   "cell_type": "markdown",
   "metadata": {},
   "source": [
    "# Mixin\n",
    "\n",
    "Take notes here\n",
    "\n",
    "- Mixins allow you to define a set of styles or behaviors once, and then reuse them across multiple selectors or files\n",
    "- Mixins allow you to define a set of styles or behaviors once, and then reuse them across multiple selectors\n",
    "- Mixins are defined using the mixin directive"
   ]
  },
  {
   "attachments": {},
   "cell_type": "markdown",
   "metadata": {},
   "source": [
    "# Mini-hack\n",
    "\n",
    "Write out a mixin in SASS that takes in a color and a font size as the parameter. Within the mixin, set the background color and font color to the color parameter, and set the font size to the font size parameter. Then create a selector that calls the mixin, and pass in a color and font size of your choice as the arguments.\n",
    "\n",
    "```\n",
    "@mixin colored-text($color, $font-size) {\n",
    "  background-color: $color;\n",
    "  color: $color;\n",
    "  font-size: $font-size;\n",
    "}\n",
    "\n",
    ".el-selectoro {\n",
    "  @include colored-text(#f00, 16px);\n",
    "}\n",
    "\n",
    "```"
   ]
  },
  {
   "attachments": {},
   "cell_type": "markdown",
   "metadata": {},
   "source": [
    "# Function\n",
    "\n",
    "Take notes here\n",
    "\n",
    "- Functions in SASS look like this:\n",
    "\n",
    "```\n",
    "@function name(parameters) {\n",
    "    // code\n",
    "    @return value;\n",
    "}\n",
    "```\n",
    "\n",
    "- Here is how to create an invert function in SASS (for light mode or dark mode)\n",
    "```\n",
    "@function sassInvert($r, $g, $b) {\n",
    "    \n",
    "    //the \"$\" creates new functions in sass\n",
    "\t$newColor: rgb(255 - $r, 255 - $g, 255 - $b); \n",
    "\n",
    "\t@return $newColor;\n",
    "\n",
    "}\n",
    "```\n",
    "\n",
    "- functions are called by specifying the function name with parenthesis\n",
    "```\n",
    ".invert {\n",
    "    // instead of putting a single color, the background color calls the function to invert colors\n",
    "\t\n",
    "    background-color: sassInvert(0, 0, 0);\n",
    "\tcolor: sassInvert(211,202,202);\n",
    "\n",
    "}\n",
    "```"
   ]
  },
  {
   "attachments": {},
   "cell_type": "markdown",
   "metadata": {},
   "source": [
    "# Import\n",
    "\n",
    "Take notes here\n",
    "- import prevents SASS files from getting cluttered and improves organization\n",
    "-  @import directive allows you to include the contents of one file within another file\n",
    "- @import can be used to break up your stylesheets into smaller, more modular files, making it easier to manage and organize your code."
   ]
  },
  {
   "attachments": {},
   "cell_type": "markdown",
   "metadata": {},
   "source": [
    "# SASS Hacks\n",
    "\n",
    "1. Take notes and complete the mini-hacks. (0.9)\n",
    "\n",
    "2. Complete the [quiz questions](https://lwu1822.github.io/sassy_squad/quizQuestions) and provide your answers in this notebook. (0.9)\n",
    "\n",
    "3. Use SASS to create something that uses either extend or mixin. (0.9)\n",
    "\n",
    "4. Extra credit: Research other SASS features and blog about what you learned or add to your SASS project with any extra features not covered in this lesson. More points will be given if both are done."
   ]
  },
  {
   "attachments": {},
   "cell_type": "markdown",
   "metadata": {},
   "source": [
    "# Multiple Choice Quiz Questions\n",
    "\n",
    "\n",
    "## What is SASS?\n",
    "\n",
    "a. A type of operating system used by many devices \n",
    "\n",
    "<mark>b. A scripting language that has many styling operations </mark>\n",
    "\n",
    "c. The name of a commonly used computer networking system \n",
    "\n",
    "d. A debugging system with many features\n",
    "\n",
    "## What is the difference between SASS and SCSS?\n",
    "\n",
    "<mark>a. They are very similar in their function, but their syntax is slightly different </mark>\n",
    "\n",
    "b. They are the exact same, but SASS is more commonly used\n",
    "\n",
    "c. SASS was developed by a larger company \n",
    "\n",
    "\n",
    "## What is an example of an advantage of using SASS over just CSS? \n",
    "\n",
    "<mark>a. SASS has more functions than CSS </mark>\n",
    "\n",
    "b. SASS is not as expensive to use than CSS \n",
    "\n",
    "c. CSS takes up more bytes \n",
    "\n",
    "d. CSS is not as commonly used, so it’s hard to find solutions to problems that arise while coding in it. \n",
    "\n",
    "\n",
    "## What does SASS stand for?\n",
    "\n",
    "<mark>a. Systematically Arranged Sample Sheets </mark>\n",
    "\n",
    "b. Syntactically Awesome Style Sheets\n",
    "\n",
    "## Which of the following is NOT an example of an available SASS directive?\n",
    "\n",
    "a. warn \n",
    "\n",
    "b. debug \n",
    "\n",
    "c. import \n",
    "\n",
    "<mark>d. compute</mark>\n",
    "\n",
    "## The __ directive is used to share rules and relationships between selectors.\n",
    "\n",
    "a. each \n",
    "\n",
    "<mark>b. extend </mark>\n",
    "\n",
    "c. mixin \n",
    "\n",
    "d. error \n",
    "\n",
    "\n",
    "## What is “@___” called?\n",
    "\n",
    "a. Enhancement \n",
    "\n",
    "<mark>b. Directive </mark>\n",
    "\n",
    "c. Label \n",
    "\n",
    "d. Token\n"
   ]
  },
  {
   "attachments": {},
   "cell_type": "markdown",
   "metadata": {},
   "source": [
    "# Use SASS to create something that uses either extend or mixin"
   ]
  },
  {
   "cell_type": "code",
   "execution_count": null,
   "metadata": {
    "vscode": {
     "languageId": "plaintext"
    }
   },
   "outputs": [],
   "source": [
    "@mixin button-style {\n",
    "  display: inline-block;\n",
    "  padding: 10px 20px;\n",
    "  font-size: 16px;\n",
    "  font-weight: bold;\n",
    "  text-align: center;\n",
    "  text-decoration: none;\n",
    "  color: #fff;\n",
    "  background-color: #007bff;\n",
    "  border: 1px solid #007bff;\n",
    "  border-radius: 4px;\n",
    "  cursor: pointer;\n",
    "}\n",
    "\n",
    ".my-button {\n",
    "  @include button-style;\n",
    "}\n",
    "\n",
    ".my-other-button {\n",
    "  @include button-style;\n",
    "  background-color: #dc3545;\n",
    "  border-color: #dc3545;\n",
    "}\n"
   ]
  }
 ],
 "metadata": {
  "language_info": {
   "name": "python"
  },
  "orig_nbformat": 4
 },
 "nbformat": 4,
 "nbformat_minor": 2
}
