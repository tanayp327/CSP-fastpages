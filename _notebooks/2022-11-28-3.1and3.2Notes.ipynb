{
 "cells": [
  {
   "cell_type": "markdown",
   "metadata": {},
   "source": [
    "## Variable Notes\n",
    "Variable is abstraction inside a program that can hold a value\n",
    "It organizes data by labeling it with a descriptive name\n",
    "Contains name, value, and type\n",
    "\n",
    "Keep the variable short and general. Make sure it is understable.\n",
    "Don't use spaces in naming the variable\n",
    "\n",
    "Types of data\n",
    " - Integer - A number\n",
    " - Text/string - A word\n",
    " - Boolean - true/false"
   ]
  },
  {
   "cell_type": "markdown",
   "metadata": {},
   "source": [
    "## Assignments Notes\n",
    "Operators that allows a program to change the value represented by a variable by assigning values to variables\n",
    "\n",
    "The value stored in a variable will be the most revent value assigned"
   ]
  },
  {
   "cell_type": "markdown",
   "metadata": {},
   "source": [
    "## Data Abstraction\n",
    "Data abstractionis method used in coding to represent data in a useful form by taking away aspects of data that arent being used in the situation\n",
    "Variables and lists are primary tools in data abstraction\n",
    "\n",
    "A list is ordered sequence of elements\n",
    "An element is an individual calue in a list that has a specific index\n",
    "\n",
    "3 types of list operations\n",
    " - Assigning calues to a list at certain indices\n",
    " - Creating an empty list and assigning it to a variable\n",
    " - Assigning the value of one list to another list"
   ]
  },
  {
   "cell_type": "markdown",
   "metadata": {},
   "source": [
    "## Managing Comlexity\n",
    "Managing complexity improves the readability of the code\n",
    "\n",
    "Managing complexity also reduces the need for new variables as more data is collected\n"
   ]
  },
  {
   "cell_type": "code",
   "execution_count": 8,
   "metadata": {},
   "outputs": [
    {
     "name": "stdout",
     "output_type": "stream",
     "text": [
      "Current number of questions: 4\n",
      "How many NBA championships has Bill Russell won?\n",
      "10 is incorrect\n",
      "What was the last year that the Sacramento Kings made the playoffs?\n",
      "Correct! Your answer was 2006\n",
      "Which player holds the record for the most points in a single game?\n",
      "Correct! Your answer was wilt chamberlain\n",
      "Which NBA player holds the all-time record for the most total assists?\n",
      "Correct! Your answer was john stockton\n",
      "You scored 3/4\n",
      "This is 75.0%\n"
     ]
    }
   ],
   "source": [
    "QandA = {\n",
    "    \"How many NBA championships has Bill Russell won?\": \"11\", \n",
    "    \"What was the last year that the Sacramento Kings made the playoffs?\": \"2006\", \n",
    "    \"Which player holds the record for the most points in a single game?\": \"wilt chamberlain\", \n",
    "    \"Which NBA player holds the all-time record for the most total assists?\": \"john stockton\", \n",
    "}\n",
    "\n",
    "def qandarsp(question):\n",
    "    print(question)\n",
    "    rsp = input()\n",
    "    return rsp\n",
    "\n",
    "correct = 0 \n",
    "\n",
    "print(\"Current number of questions: \" + str(len(QandA)))\n",
    "\n",
    "for key in QandA:\n",
    "    rsp = qandarsp(key)\n",
    "    rsp = rsp.lower()\n",
    "    if rsp == QandA[key]:\n",
    "        print(f\"Correct! Your answer was {rsp}\")\n",
    "        correct += 1\n",
    "    else:\n",
    "        print(f\"{rsp} is incorrect\") \n",
    "\n",
    "percent = round(correct/len(QandA), 2)*100\n",
    "\n",
    "print(\"You scored \" + str(correct) +\"/\" + str(len(QandA)))\n",
    "print(f\"This is {percent}%\") # print score and percentage"
   ]
  }
 ],
 "metadata": {
  "kernelspec": {
   "display_name": "Python 3.9.12 ('base')",
   "language": "python",
   "name": "python3"
  },
  "language_info": {
   "codemirror_mode": {
    "name": "ipython",
    "version": 3
   },
   "file_extension": ".py",
   "mimetype": "text/x-python",
   "name": "python",
   "nbconvert_exporter": "python",
   "pygments_lexer": "ipython3",
   "version": "3.9.12"
  },
  "orig_nbformat": 4,
  "vscode": {
   "interpreter": {
    "hash": "b792a976fef0b417357a8dccde0bb21ed37e3144aa928915426759a361f9129e"
   }
  }
 },
 "nbformat": 4,
 "nbformat_minor": 2
}
