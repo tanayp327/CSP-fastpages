{
 "cells": [
  {
   "cell_type": "markdown",
   "metadata": {},
   "source": [
    "## Variable Notes\n",
    "Variable is abstraction inside a program that can hold a value\n",
    "It organizes data by labeling it with a descriptive name\n",
    "Contains name, value, and type\n",
    "\n",
    "Keep the variable short and general. Make sure it is understable.\n",
    "Don't use spaces in naming the variable\n",
    "\n",
    "Types of data\n",
    " - Integer - A number\n",
    " - Text/string - A word\n",
    " - Boolean - true/false"
   ]
  },
  {
   "cell_type": "markdown",
   "metadata": {},
   "source": [
    "## Assignments Notes\n",
    "Operators that allows a program to change the value represented by a variable by assigning values to variables\n",
    "\n",
    "The value stored in a variable will be the most revent value assigned"
   ]
  },
  {
   "cell_type": "markdown",
   "metadata": {},
   "source": [
    "## Data Abstraction\n",
    "Data abstractionis method used in coding to represent data in a useful form by taking away aspects of data that arent being used in the situation\n",
    "Variables and lists are primary tools in data abstraction\n",
    "\n",
    "A list is ordered sequence of elements\n",
    "An element is an individual calue in a list that has a specific index\n",
    "\n",
    "3 types of list operations\n",
    " - Assigning calues to a list at certain indices\n",
    " - Creating an empty list and assigning it to a variable\n",
    " - Assigning the value of one list to another list"
   ]
  },
  {
   "cell_type": "markdown",
   "metadata": {},
   "source": [
    "## Managing Comlexity\n",
    "Managing complexity improves the readability"
   ]
  },
  {
   "cell_type": "code",
   "execution_count": 5,
   "metadata": {},
   "outputs": [
    {
     "ename": "TypeError",
     "evalue": "sort_merge() takes 1 positional argument but 2 were given",
     "output_type": "error",
     "traceback": [
      "\u001b[0;31m---------------------------------------------------------------------------\u001b[0m",
      "\u001b[0;31mTypeError\u001b[0m                                 Traceback (most recent call last)",
      "\u001b[1;32m/home/tanayp327/vscode/CSP-fastpages/_notebooks/2022-11-28-3.1and3.2Notes.ipynb Cell 5\u001b[0m in \u001b[0;36m<cell line: 30>\u001b[0;34m()\u001b[0m\n\u001b[1;32m     <a href='vscode-notebook-cell://wsl%2Bubuntu/home/tanayp327/vscode/CSP-fastpages/_notebooks/2022-11-28-3.1and3.2Notes.ipynb#W4sdnNjb2RlLXJlbW90ZQ%3D%3D?line=27'>28</a>\u001b[0m       res \u001b[39m=\u001b[39m res \u001b[39m+\u001b[39m left_half\n\u001b[1;32m     <a href='vscode-notebook-cell://wsl%2Bubuntu/home/tanayp327/vscode/CSP-fastpages/_notebooks/2022-11-28-3.1and3.2Notes.ipynb#W4sdnNjb2RlLXJlbW90ZQ%3D%3D?line=28'>29</a>\u001b[0m    \u001b[39mreturn\u001b[39;00m res\n\u001b[0;32m---> <a href='vscode-notebook-cell://wsl%2Bubuntu/home/tanayp327/vscode/CSP-fastpages/_notebooks/2022-11-28-3.1and3.2Notes.ipynb#W4sdnNjb2RlLXJlbW90ZQ%3D%3D?line=29'>30</a>\u001b[0m \u001b[39mprint\u001b[39m(sort_merge(unsorted_list))\n",
      "\u001b[1;32m/home/tanayp327/vscode/CSP-fastpages/_notebooks/2022-11-28-3.1and3.2Notes.ipynb Cell 5\u001b[0m in \u001b[0;36msort_merge\u001b[0;34m(unsorted_list)\u001b[0m\n\u001b[1;32m      <a href='vscode-notebook-cell://wsl%2Bubuntu/home/tanayp327/vscode/CSP-fastpages/_notebooks/2022-11-28-3.1and3.2Notes.ipynb#W4sdnNjb2RlLXJlbW90ZQ%3D%3D?line=7'>8</a>\u001b[0m left_list \u001b[39m=\u001b[39m unsorted_list[:middle]\n\u001b[1;32m      <a href='vscode-notebook-cell://wsl%2Bubuntu/home/tanayp327/vscode/CSP-fastpages/_notebooks/2022-11-28-3.1and3.2Notes.ipynb#W4sdnNjb2RlLXJlbW90ZQ%3D%3D?line=8'>9</a>\u001b[0m right_list \u001b[39m=\u001b[39m unsorted_list[middle:]\n\u001b[0;32m---> <a href='vscode-notebook-cell://wsl%2Bubuntu/home/tanayp327/vscode/CSP-fastpages/_notebooks/2022-11-28-3.1and3.2Notes.ipynb#W4sdnNjb2RlLXJlbW90ZQ%3D%3D?line=10'>11</a>\u001b[0m left_list \u001b[39m=\u001b[39m sort_merge(left_list)\n\u001b[1;32m     <a href='vscode-notebook-cell://wsl%2Bubuntu/home/tanayp327/vscode/CSP-fastpages/_notebooks/2022-11-28-3.1and3.2Notes.ipynb#W4sdnNjb2RlLXJlbW90ZQ%3D%3D?line=11'>12</a>\u001b[0m right_list \u001b[39m=\u001b[39m sort_merge(right_list)\n\u001b[1;32m     <a href='vscode-notebook-cell://wsl%2Bubuntu/home/tanayp327/vscode/CSP-fastpages/_notebooks/2022-11-28-3.1and3.2Notes.ipynb#W4sdnNjb2RlLXJlbW90ZQ%3D%3D?line=12'>13</a>\u001b[0m \u001b[39mreturn\u001b[39;00m \u001b[39mlist\u001b[39m(sort_merge(left_list, right_list))\n",
      "\u001b[1;32m/home/tanayp327/vscode/CSP-fastpages/_notebooks/2022-11-28-3.1and3.2Notes.ipynb Cell 5\u001b[0m in \u001b[0;36msort_merge\u001b[0;34m(unsorted_list)\u001b[0m\n\u001b[1;32m      <a href='vscode-notebook-cell://wsl%2Bubuntu/home/tanayp327/vscode/CSP-fastpages/_notebooks/2022-11-28-3.1and3.2Notes.ipynb#W4sdnNjb2RlLXJlbW90ZQ%3D%3D?line=8'>9</a>\u001b[0m right_list \u001b[39m=\u001b[39m unsorted_list[middle:]\n\u001b[1;32m     <a href='vscode-notebook-cell://wsl%2Bubuntu/home/tanayp327/vscode/CSP-fastpages/_notebooks/2022-11-28-3.1and3.2Notes.ipynb#W4sdnNjb2RlLXJlbW90ZQ%3D%3D?line=10'>11</a>\u001b[0m left_list \u001b[39m=\u001b[39m sort_merge(left_list)\n\u001b[0;32m---> <a href='vscode-notebook-cell://wsl%2Bubuntu/home/tanayp327/vscode/CSP-fastpages/_notebooks/2022-11-28-3.1and3.2Notes.ipynb#W4sdnNjb2RlLXJlbW90ZQ%3D%3D?line=11'>12</a>\u001b[0m right_list \u001b[39m=\u001b[39m sort_merge(right_list)\n\u001b[1;32m     <a href='vscode-notebook-cell://wsl%2Bubuntu/home/tanayp327/vscode/CSP-fastpages/_notebooks/2022-11-28-3.1and3.2Notes.ipynb#W4sdnNjb2RlLXJlbW90ZQ%3D%3D?line=12'>13</a>\u001b[0m \u001b[39mreturn\u001b[39;00m \u001b[39mlist\u001b[39m(sort_merge(left_list, right_list))\n",
      "\u001b[1;32m/home/tanayp327/vscode/CSP-fastpages/_notebooks/2022-11-28-3.1and3.2Notes.ipynb Cell 5\u001b[0m in \u001b[0;36msort_merge\u001b[0;34m(unsorted_list)\u001b[0m\n\u001b[1;32m     <a href='vscode-notebook-cell://wsl%2Bubuntu/home/tanayp327/vscode/CSP-fastpages/_notebooks/2022-11-28-3.1and3.2Notes.ipynb#W4sdnNjb2RlLXJlbW90ZQ%3D%3D?line=10'>11</a>\u001b[0m left_list \u001b[39m=\u001b[39m sort_merge(left_list)\n\u001b[1;32m     <a href='vscode-notebook-cell://wsl%2Bubuntu/home/tanayp327/vscode/CSP-fastpages/_notebooks/2022-11-28-3.1and3.2Notes.ipynb#W4sdnNjb2RlLXJlbW90ZQ%3D%3D?line=11'>12</a>\u001b[0m right_list \u001b[39m=\u001b[39m sort_merge(right_list)\n\u001b[0;32m---> <a href='vscode-notebook-cell://wsl%2Bubuntu/home/tanayp327/vscode/CSP-fastpages/_notebooks/2022-11-28-3.1and3.2Notes.ipynb#W4sdnNjb2RlLXJlbW90ZQ%3D%3D?line=12'>13</a>\u001b[0m \u001b[39mreturn\u001b[39;00m \u001b[39mlist\u001b[39m(sort_merge(left_list, right_list))\n",
      "\u001b[0;31mTypeError\u001b[0m: sort_merge() takes 1 positional argument but 2 were given"
     ]
    }
   ],
   "source": [
    "unsorted_list = [64, 34, 25, 12, 22, 11, 90]\n",
    "\n",
    "def sort_merge(unsorted_list):\n",
    "   if len(unsorted_list) <= 1:\n",
    "      return unsorted_list\n",
    "# Find the middle point and divide it\n",
    "   middle = len(unsorted_list) // 2\n",
    "   left_list = unsorted_list[:middle]\n",
    "   right_list = unsorted_list[middle:]\n",
    "\n",
    "   left_list = sort_merge(left_list)\n",
    "   right_list = merge_sort(right_list)\n",
    "   return list(sort-merge(left_list, right_list))\n",
    "\n",
    "# Merge the sorted halves\n",
    "def merge(left_half,right_half):\n",
    "   res = []\n",
    "   while len(left_half) != 0 and len(right_half) != 0:\n",
    "      if left_half[0] < right_half[0]:\n",
    "         res.append(left_half[0])\n",
    "         left_half.remove(left_half[0])\n",
    "      else:\n",
    "         res.append(right_half[0])\n",
    "         right_half.remove(right_half[0])\n",
    "   if len(left_half) == 0:\n",
    "      res = res + right_half\n",
    "   else:\n",
    "      res = res + left_half\n",
    "   return res\n",
    "print(sort-merge(unsorted_list))"
   ]
  }
 ],
 "metadata": {
  "kernelspec": {
   "display_name": "Python 3.9.12 ('base')",
   "language": "python",
   "name": "python3"
  },
  "language_info": {
   "codemirror_mode": {
    "name": "ipython",
    "version": 3
   },
   "file_extension": ".py",
   "mimetype": "text/x-python",
   "name": "python",
   "nbconvert_exporter": "python",
   "pygments_lexer": "ipython3",
   "version": "3.9.12"
  },
  "orig_nbformat": 4,
  "vscode": {
   "interpreter": {
    "hash": "b792a976fef0b417357a8dccde0bb21ed37e3144aa928915426759a361f9129e"
   }
  }
 },
 "nbformat": 4,
 "nbformat_minor": 2
}
