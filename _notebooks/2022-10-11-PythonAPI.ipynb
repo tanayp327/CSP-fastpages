{
 "cells": [
  {
   "cell_type": "markdown",
   "metadata": {},
   "source": [
    "# Python API\n",
    "> Week 7 Hacks.\n",
    "\n",
    "- title: Python Worldtme API\n",
    "- toc: true\n",
    "- badges: true\n",
    "- author: Tanay Patel\n",
    "- categories: [python,hacks]"
   ]
  },
  {
   "cell_type": "markdown",
   "metadata": {},
   "source": [
    "# Group Project Worldtime API"
   ]
  },
  {
   "cell_type": "code",
   "execution_count": 1,
   "metadata": {},
   "outputs": [
    {
     "name": "stdout",
     "output_type": "stream",
     "text": [
      "{'abbreviation': 'BST', 'client_ip': '35.162.152.183', 'datetime': '2022-10-11T22:49:30.015338+01:00', 'day_of_week': 2, 'day_of_year': 284, 'dst': True, 'dst_from': '2022-03-27T01:00:00+00:00', 'dst_offset': 3600, 'dst_until': '2022-10-30T01:00:00+00:00', 'raw_offset': 0, 'timezone': 'Europe/London', 'unixtime': 1665524970, 'utc_datetime': '2022-10-11T21:49:30.015338+00:00', 'utc_offset': '+01:00', 'week_number': 41}\n"
     ]
    }
   ],
   "source": [
    "import requests\n",
    "\n",
    "url = \"https://world-time2.p.rapidapi.com/timezone/Europe/London\"\n",
    "\n",
    "headers = {\n",
    "\t\"X-RapidAPI-Key\": \"c0f7469cd7mshc45a4834d55afdep1b5c00jsnc8a41fb46f94\",\n",
    "\t\"X-RapidAPI-Host\": \"world-time2.p.rapidapi.com\"\n",
    "}\n",
    "\n",
    "response = requests.request(\"GET\", url, headers=headers)\n",
    "\n",
    "print(response.json())"
   ]
  }
 ],
 "metadata": {
  "kernelspec": {
   "display_name": "Python 3.9.5 64-bit",
   "language": "python",
   "name": "python3"
  },
  "language_info": {
   "codemirror_mode": {
    "name": "ipython",
    "version": 3
   },
   "file_extension": ".py",
   "mimetype": "text/x-python",
   "name": "python",
   "nbconvert_exporter": "python",
   "pygments_lexer": "ipython3",
   "version": "3.9.5"
  },
  "orig_nbformat": 4,
  "vscode": {
   "interpreter": {
    "hash": "f9f85f796d01129d0dd105a088854619f454435301f6ffec2fea96ecbd9be4ac"
   }
  }
 },
 "nbformat": 4,
 "nbformat_minor": 2
}
