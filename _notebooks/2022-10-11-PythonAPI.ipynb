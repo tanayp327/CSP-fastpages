{
 "cells": [
  {
   "cell_type": "markdown",
   "metadata": {},
   "source": [
    "# Python API\n",
    "> Week 7 Hacks.\n",
    "\n",
    "- title: Python Worldtme API\n",
    "- toc: true\n",
    "- badges: true\n",
    "- author: Tanay Patel\n",
    "- categories: [python,hacks]"
   ]
  },
  {
   "cell_type": "markdown",
   "metadata": {},
   "source": [
    "### Group Project Worldtime API"
   ]
  },
  {
   "cell_type": "code",
   "execution_count": 1,
   "metadata": {},
   "outputs": [
    {
     "name": "stdout",
     "output_type": "stream",
     "text": [
      "World Totals\n",
      "total_cases 509,268,964\n",
      "new_cases 204,268\n",
      "total_deaths 6,242,509\n",
      "new_deaths 630\n",
      "total_recovered 461,827,849\n",
      "active_cases 41,198,606\n",
      "serious_critical 42,510\n",
      "total_cases_per_1m_population 65,334\n",
      "deaths_per_1m_population 800.9\n",
      "statistic_taken_at 2022-04-24 11:18:01\n",
      "\n",
      "Country Totals\n",
      "country_name USA\n",
      "cases 82,649,779\n",
      "deaths 1,018,316\n",
      "region \n",
      "total_recovered 80,434,925\n",
      "new_deaths 0\n",
      "new_cases 0\n",
      "serious_critical 1,465\n",
      "active_cases 1,196,538\n",
      "total_cases_per_1m_population 247,080\n",
      "deaths_per_1m_population 3,044\n",
      "total_tests 1,000,275,726\n",
      "tests_per_1m_population 2,990,303\n"
     ]
    }
   ],
   "source": [
    "\"\"\"\n",
    "Requests is a HTTP library for the Python programming language. \n",
    "The goal of the project is to make HTTP requests simpler and more human-friendly. \n",
    "\"\"\"\n",
    "import requests\n",
    "\n",
    "\"\"\"\n",
    "RapidAPI is the world's largest API Marketplace. \n",
    "Developers use Rapid API to discover and connect to thousands of APIs. \n",
    "\"\"\"\n",
    "url = \"https://corona-virus-world-and-india-data.p.rapidapi.com/api\"\n",
    "headers = {\n",
    "    'x-rapidapi-key': \"068e8e71ccmsh9b3b0cf234e3d0dp15d891jsn4e9a94382eba\",\n",
    "    'x-rapidapi-host': \"corona-virus-world-and-india-data.p.rapidapi.com\"\n",
    "}\n",
    "\n",
    "# Request Covid Data\n",
    "response = requests.request(\"GET\", url, headers=headers)\n",
    "# print(response.text)  # uncomment this line to see raw data\n",
    "\n",
    "# This code looks for \"world data\"\n",
    "print(\"World Totals\")\n",
    "world = response.json().get('world_total')  # turn response to json() so we can extract \"world_total\"\n",
    "for key, value in world.items():  # this finds key, value pairs in country\n",
    "    print(key, value)\n",
    "\n",
    "print()\n",
    "\n",
    "# This code looks for USA in \"countries_stats\"\n",
    "print(\"Country Totals\")\n",
    "countries = response.json().get('countries_stat')\n",
    "for country in countries:  # countries is a list\n",
    "    if country[\"country_name\"] == \"USA\":  # this filters for USA\n",
    "        for key, value in country.items():  # this finds key, value pairs in country\n",
    "            print(key, value)"
   ]
  },
  {
   "cell_type": "code",
   "execution_count": 13,
   "metadata": {},
   "outputs": [
    {
     "name": "stdout",
     "output_type": "stream",
     "text": [
      "{\"abbreviation\":\"BST\",\"client_ip\":\"35.162.152.183\",\"datetime\":\"2022-10-14T17:40:40.899055+01:00\",\"day_of_week\":5,\"day_of_year\":287,\"dst\":true,\"dst_from\":\"2022-03-27T01:00:00+00:00\",\"dst_offset\":3600,\"dst_until\":\"2022-10-30T01:00:00+00:00\",\"raw_offset\":0,\"timezone\":\"Europe/London\",\"unixtime\":1665765640,\"utc_datetime\":\"2022-10-14T16:40:40.899055+00:00\",\"utc_offset\":\"+01:00\",\"week_number\":41}\n"
     ]
    }
   ],
   "source": [
    "import requests\n",
    "\n",
    "url = \"https://world-time2.p.rapidapi.com/timezone/Europe/London\"\n",
    "\n",
    "headers = {\n",
    "\t\"X-RapidAPI-Key\": \"8401db6433msh3a46dd5bf23ad2ep19a280jsn48536a994246\",\n",
    "\t\"X-RapidAPI-Host\": \"world-time2.p.rapidapi.com\"\n",
    "}\n",
    "\n",
    "response = requests.request(\"GET\", url, headers=headers)\n",
    "\n",
    "print(response.text)"
   ]
  },
  {
   "cell_type": "code",
   "execution_count": 15,
   "metadata": {},
   "outputs": [
    {
     "name": "stdout",
     "output_type": "stream",
     "text": [
      "The time zone is: Europe/London\n",
      "This is the date and time: 2022-10-14T17:43:48.375157+01:00\n",
      "What day of the week is it? 5\n",
      "What day of the year is it? 287\n",
      "This is the date and time in UTC: 2022-10-14T16:43:48.375157+00:00\n"
     ]
    }
   ],
   "source": [
    "import requests\n",
    "\n",
    "url = \"https://world-time2.p.rapidapi.com/timezone/Europe/London\"\n",
    "\n",
    "headers = {\n",
    "\t\"X-RapidAPI-Key\": \"c0f7469cd7mshc45a4834d55afdep1b5c00jsnc8a41fb46f94\",\n",
    "\t\"X-RapidAPI-Host\": \"world-time2.p.rapidapi.com\"\n",
    "}\n",
    "\n",
    "response = requests.request(\"GET\", url, headers=headers)\n",
    "\n",
    "parse_data = response.json()\n",
    "\n",
    "datetime = parse_data[\"datetime\"]\n",
    "day_of_week = parse_data[\"day_of_week\"]\n",
    "day_of_year = parse_data[\"day_of_year\"]\n",
    "timezone = parse_data[\"timezone\"]\n",
    "utc_datetime = parse_data[\"utc_datetime\"]\n",
    "\n",
    "print(\"The time zone is: \" + timezone)\n",
    "print(\"This is the date and time: \" + datetime)\n",
    "print(\"What day of the week is it? \" + str(day_of_week))\n",
    "print(\"What day of the year is it? \" + str(day_of_year))\n",
    "print(\"This is the date and time in UTC: \" + str(utc_datetime))"
   ]
  }
 ],
 "metadata": {
  "kernelspec": {
   "display_name": "Python 3.9.5 64-bit",
   "language": "python",
   "name": "python3"
  },
  "language_info": {
   "codemirror_mode": {
    "name": "ipython",
    "version": 3
   },
   "file_extension": ".py",
   "mimetype": "text/x-python",
   "name": "python",
   "nbconvert_exporter": "python",
   "pygments_lexer": "ipython3",
   "version": "3.9.5"
  },
  "orig_nbformat": 4,
  "vscode": {
   "interpreter": {
    "hash": "f9f85f796d01129d0dd105a088854619f454435301f6ffec2fea96ecbd9be4ac"
   }
  }
 },
 "nbformat": 4,
 "nbformat_minor": 2
}
