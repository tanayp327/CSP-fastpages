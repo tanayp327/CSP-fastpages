{
 "cells": [
  {
   "cell_type": "markdown",
   "metadata": {},
   "source": [
    "# Error Fixing\n",
    "> Week 7 Hacks.\n",
    "\n",
    "- title: Fixing Errors in Python\n",
    "- toc: true\n",
    "- badges: true\n",
    "- author: Tanay Patel\n",
    "- categories: [python,hacks]"
   ]
  },
  {
   "cell_type": "code",
   "execution_count": 1,
   "metadata": {},
   "outputs": [
    {
     "name": "stdout",
     "output_type": "stream",
     "text": [
      "['a', 'b', 'c', 'd', 'e', 'f', 'g', 'h', 'i', 'j', 'k', 'l', 'm', 'n', 'o', 'p', 'q', 'r', 's', 't', 'u', 'v', 'w', 'x', 'y', 'z']\n"
     ]
    }
   ],
   "source": [
    "alphabet = \"abcdefghijklmnopqrstuvwxyz\"\n",
    "\n",
    "alphabetList = []\n",
    "\n",
    "for i in alphabet:\n",
    "    alphabetList.append(i)\n",
    "\n",
    "print(alphabetList)"
   ]
  },
  {
   "cell_type": "code",
   "execution_count": 4,
   "metadata": {},
   "outputs": [
    {
     "name": "stdout",
     "output_type": "stream",
     "text": [
      "The letter d is the 4 letter in the alphabet\n"
     ]
    }
   ],
   "source": [
    "letter = input(\"What letter would you like to check?\")\n",
    "\n",
    "i = 0\n",
    "\n",
    "while i < 26:\n",
    "    if alphabetList[i] == letter:\n",
    "        print(\"The letter \" + letter + \" is the \" + str(i+1) + \" letter in the alphabet\")\n",
    "    i += 1"
   ]
  },
  {
   "cell_type": "code",
   "execution_count": 8,
   "metadata": {},
   "outputs": [
    {
     "name": "stdout",
     "output_type": "stream",
     "text": [
      "Menu:\n",
      "burger  $3.99\n",
      "fries  $2.99\n",
      "drink  $0.99\n",
      "This is not on the menu!\n",
      "Your order so far: 1 burger\n",
      "This costs $ 3.99\n",
      "Your order so far: 1 fries\n",
      "This costs $ 2.99\n",
      "Your order so far: 1 drink\n",
      "This costs $ 0.99\n",
      "This is not on the menu!\n",
      "This is not on the menu!\n",
      "Your total is: $ 7.97\n",
      "Enjoy!\n",
      "This is not on the menu!\n",
      "This is not on the menu!\n",
      "This is not on the menu!\n"
     ]
    }
   ],
   "source": [
    "menu =  {\"burger\": 3.99,\n",
    "         \"fries\": 2.99,\n",
    "         \"drink\": 0.99}\n",
    "total = 0\n",
    "\n",
    "print(\"Menu:\")\n",
    "for k,v in menu.items():\n",
    "    print(k + \"  $\" + str(v)) \n",
    "\n",
    "order = True\n",
    "while order:   \n",
    "    item = input(\"choose your order\")\n",
    "    if item in menu.keys(): \n",
    "        total+= menu[item]\n",
    "        print(\"Your order so far: 1\", item)\n",
    "        print(\"This costs $\", menu[item])\n",
    "    elif item == str(\"Done\"):\n",
    "        total = round(total, 3)\n",
    "        print(\"Your total is: $\", total)\n",
    "        print(\"Enjoy!\")\n",
    "    else:           \n",
    "        order = False\n",
    "    \n",
    "        \n",
    "print(\"Have a good day!\")"
   ]
  }
 ],
 "metadata": {
  "kernelspec": {
   "display_name": "Python 3.9.5 64-bit",
   "language": "python",
   "name": "python3"
  },
  "language_info": {
   "codemirror_mode": {
    "name": "ipython",
    "version": 3
   },
   "file_extension": ".py",
   "mimetype": "text/x-python",
   "name": "python",
   "nbconvert_exporter": "python",
   "pygments_lexer": "ipython3",
   "version": "3.9.5"
  },
  "orig_nbformat": 4,
  "vscode": {
   "interpreter": {
    "hash": "f9f85f796d01129d0dd105a088854619f454435301f6ffec2fea96ecbd9be4ac"
   }
  }
 },
 "nbformat": 4,
 "nbformat_minor": 2
}
