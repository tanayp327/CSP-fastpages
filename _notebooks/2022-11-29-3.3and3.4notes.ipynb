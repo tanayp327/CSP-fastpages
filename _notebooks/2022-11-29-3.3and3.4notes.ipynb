{
 "cells": [
  {
   "cell_type": "markdown",
   "metadata": {},
   "source": [
    "# Unit 3 Sections 3-4\n",
    "> Welcome to my String and Arithmetic Operators Notes\n",
    "\n",
    "- title: String and Arithmetic Operators Notes\n",
    "- toc: false\n",
    "- badges: false\n",
    "- categories: [notebook]"
   ]
  },
  {
   "cell_type": "markdown",
   "metadata": {},
   "source": [
    "## Algorithm\n",
    "Selection helps choose between 2 different algorithms\n",
    "Sequencing\n",
    "Iteration\n",
    "\n",
    "Flowcharts use shapes and arrows to represent the steps of an algorithm.\n"
   ]
  },
  {
   "cell_type": "markdown",
   "metadata": {},
   "source": [
    "## Arithmetic Operations\n",
    "\n",
    "Addition Represented by \"+\"\n",
    "Subtraction Represented by \"-\"\n",
    "Division Represented by \"/\"\n",
    "Multiplication Represented by \"*\"\n",
    "Modulus Represented by \"%\"\n",
    "\n",
    "Order of operations is the same, uses PEMDAS."
   ]
  },
  {
   "cell_type": "markdown",
   "metadata": {},
   "source": [
    "## Variables\n",
    "Ways to Store Data\n",
    "1. Numerical value stored in a cariable\n",
    "2. \n",
    "3. \n",
    "4. \n",
    "\n",
    "Changing the order of the steps changes the overall outcome, since every time the value assigned to a variable is changed, it changes from the previous value which was assigned to the same variable.\n"
   ]
  },
  {
   "cell_type": "markdown",
   "metadata": {},
   "source": [
    "## String\n",
    "\n",
    "A string is a collection of characters, and anything can be any symbol \n",
    "\n",
    "Examples of python\n",
    "len() finds the length of a string\n",
    "lower() to convert to lowercase\n",
    "\n",
    "String concatenation is combining 2 or more strings to make a new strings in order to create a new string\n",
    "\n"
   ]
  },
  {
   "cell_type": "code",
   "execution_count": 4,
   "metadata": {},
   "outputs": [
    {
     "name": "stdout",
     "output_type": "stream",
     "text": [
      "17\n"
     ]
    }
   ],
   "source": [
    "# Hacks Part 1 Problem 1\n",
    "Num1 = 50\n",
    "Num2 = Num1 % 9 + 15                    # num2 = 20\n",
    "Num3 = Num2 / Num1 + ( Num2 * 2 )       # num3 = 20/50 + 40 = 40.4\n",
    "Num4 = Num3 + Num1 / 5 - 10             # num4 = 40.4 + 10 - 10 = 40.4\n",
    "Result = Num4 - Num2                    # Result = 40.4 - 20 = 20.4\n",
    "\n",
    "# Hacks Part 1 Problem 2\n",
    "Num1 = 10\n",
    "Num2 = Num1 % 3 * 4                     # num2 = 1 * 4 = 4\n",
    "Num1 = Num2                             # num1 = 4\n",
    "Num3 = Num1 * 3                         # num3 = 4 * 3 = 12\n",
    "Result = Num3 % 2                       # Result = 0\n",
    "\n",
    "# Hacks Part 1 Problem 3\n",
    "valueA = 4\n",
    "valueB = 90\n",
    "valueC = 17\n",
    "valueB = valueC - valueA                # valueB = 17 - 4 = 13\n",
    "valueA = valueA * 10                    # valueA = 4 * 10 = 40\n",
    "if valueB > 10:                         # valueB is 13, which is greater than 10\n",
    "    print(valueC)                       # This will print 17"
   ]
  },
  {
   "cell_type": "code",
   "execution_count": null,
   "metadata": {},
   "outputs": [],
   "source": [
    "# Hacks Part 1 Problem 4\n",
    "type = \"curly\"\n",
    "color = \"brown\"\n",
    "length = \"short\"\n",
    "type = \"straight\"\n",
    "hair = type + color + length\n",
    "\n",
    "print(hair)"
   ]
  },
  {
   "cell_type": "code",
   "execution_count": 1,
   "metadata": {},
   "outputs": [
    {
     "name": "stdout",
     "output_type": "stream",
     "text": [
      "chocolate vote 270\n",
      "raisin vote 4.5\n"
     ]
    }
   ],
   "source": [
    "cookie = \"chocolate\" \n",
    "cookie2 = \"raisin\" \n",
    "len1 = (len(cookie) / 2)\n",
    "len2 = (len(cookie2) * 45)\n",
    "vote1 = (cookie + \" vote \" + str(len2))\n",
    "vote2 = (cookie2 + \" vote \" + str(len1))\n",
    "print(vote1 +  \"\\n\" + vote2)"
   ]
  },
  {
   "cell_type": "code",
   "execution_count": 2,
   "metadata": {},
   "outputs": [
    {
     "name": "stdout",
     "output_type": "stream",
     "text": [
      "Very handsome Mr.Mort is.\n"
     ]
    }
   ],
   "source": [
    "Noun = \"Mr.Mortenson\" \n",
    "Adjective = \"handsome\" \n",
    "Adjective2 = \"Very\" \n",
    "Verb = \"is\" \n",
    "abrev = Noun[:7]\n",
    "yoda = Adjective2 + \" \" + Adjective + \" \" + abrev + \" \" + Verb + \".\"\n",
    "print(yoda)"
   ]
  }
 ],
 "metadata": {
  "kernelspec": {
   "display_name": "Python 3.9.5 64-bit",
   "language": "python",
   "name": "python3"
  },
  "language_info": {
   "codemirror_mode": {
    "name": "ipython",
    "version": 3
   },
   "file_extension": ".py",
   "mimetype": "text/x-python",
   "name": "python",
   "nbconvert_exporter": "python",
   "pygments_lexer": "ipython3",
   "version": "3.9.5"
  },
  "orig_nbformat": 4,
  "vscode": {
   "interpreter": {
    "hash": "f9f85f796d01129d0dd105a088854619f454435301f6ffec2fea96ecbd9be4ac"
   }
  }
 },
 "nbformat": 4,
 "nbformat_minor": 2
}
