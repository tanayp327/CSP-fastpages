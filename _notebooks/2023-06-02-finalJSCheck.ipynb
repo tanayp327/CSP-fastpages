{
 "cells": [
  {
   "cell_type": "markdown",
   "metadata": {},
   "source": [
    "# JavaScript Final Check\n",
    "> This notebook provides explanations and examples of various components in JavaScript.\n",
    "\n",
    "- toc: true\n",
    "- categories: [python]"
   ]
  },
  {
   "cell_type": "markdown",
   "metadata": {
    "vscode": {
     "languageId": "javascript"
    }
   },
   "source": [
    "## Variables\n",
    "\n",
    "Variables in JavaScript allow you to store and manipulate data values. You can declare variables using the `var`, `let`, or `const` keywords."
   ]
  },
  {
   "cell_type": "code",
   "execution_count": 88,
   "metadata": {},
   "outputs": [
    {
     "data": {
      "application/javascript": [
       "\n",
       "var greeting = \"Hello, World!\";\n",
       "let count = 10;\n",
       "const PI = 3.14159;\n",
       "\n",
       "// Variable reassignment\n",
       "count = 20;\n",
       "\n",
       "// Output variables\n",
       "element.append(greeting);\n",
       "// Going to a different line\n",
       "element.append(document.createElement(\"br\"));\n",
       "element.append(count);\n",
       "element.append(document.createElement(\"br\"));\n",
       "element.append(PI);\n"
      ],
      "text/plain": [
       "<IPython.core.display.Javascript object>"
      ]
     },
     "metadata": {},
     "output_type": "display_data"
    }
   ],
   "source": [
    "%%js\n",
    "\n",
    "var greeting = \"Hello, World!\";\n",
    "let count = 10;\n",
    "const PI = 3.14159;\n",
    "\n",
    "// Variable reassignment\n",
    "count = 20;\n",
    "\n",
    "// Output variables\n",
    "element.append(greeting);\n",
    "// Going to a different line\n",
    "element.append(document.createElement(\"br\"));\n",
    "element.append(count);\n",
    "element.append(document.createElement(\"br\"));\n",
    "element.append(PI);"
   ]
  },
  {
   "cell_type": "markdown",
   "metadata": {},
   "source": [
    "## 1. Variables\n",
    "\n",
    "Variables in JavaScript are used to store and manipulate data values. There are three ways to declare variables: `var`, `let`, and `const`.\n",
    "\n",
    "### `var`:\n",
    "- Variables declared with `var` are function-scoped or globally-scoped.\n",
    "- They can be redeclared and reassigned.\n",
    "- Example:"
   ]
  },
  {
   "cell_type": "code",
   "execution_count": 2,
   "metadata": {},
   "outputs": [
    {
     "data": {
      "application/javascript": [
       "\n",
       "var greeting = \"Hello, World!\";\n",
       "element.append(greeting); // Output: Hello, World!\n"
      ],
      "text/plain": [
       "<IPython.core.display.Javascript object>"
      ]
     },
     "metadata": {},
     "output_type": "display_data"
    }
   ],
   "source": [
    "%%js\n",
    "\n",
    "var greeting = \"Hello, World!\";\n",
    "element.append(greeting); // Output: Hello, World!"
   ]
  },
  {
   "cell_type": "markdown",
   "metadata": {},
   "source": [
    "### `let`:\n",
    "\n",
    "- Variables declared with let are block-scoped\n",
    "- They can be reassigned but not redeclared within the same scope\n",
    "- Example:"
   ]
  },
  {
   "cell_type": "code",
   "execution_count": 4,
   "metadata": {},
   "outputs": [
    {
     "data": {
      "application/javascript": [
       "\n",
       "let count = 10;\n",
       "element.append(count); // Output: 10\n",
       "element.append(document.createElement(\"br\")); // Going to a new line\n",
       "count = 20;\n",
       "element.append(count); // Output: 20\n"
      ],
      "text/plain": [
       "<IPython.core.display.Javascript object>"
      ]
     },
     "metadata": {},
     "output_type": "display_data"
    }
   ],
   "source": [
    "%%js\n",
    "\n",
    "let count = 10;\n",
    "element.append(count); // Output: 10\n",
    "element.append(document.createElement(\"br\")); // Going to a new line\n",
    "count = 20;\n",
    "element.append(count); // Output: 20"
   ]
  },
  {
   "cell_type": "markdown",
   "metadata": {},
   "source": [
    "### `const`:\n",
    "\n",
    "- Variables declared with `const` are block-scoped and cannot be reassigned.\n",
    "- They must be assigned a value at the time of declaration.\n",
    "- Example:"
   ]
  },
  {
   "cell_type": "code",
   "execution_count": 7,
   "metadata": {},
   "outputs": [
    {
     "data": {
      "application/javascript": [
       "\n",
       "const PI = 3.14159;\n",
       "element.append(PI); // Output: 3.14159\n"
      ],
      "text/plain": [
       "<IPython.core.display.Javascript object>"
      ]
     },
     "metadata": {},
     "output_type": "display_data"
    }
   ],
   "source": [
    "%%js\n",
    "\n",
    "const PI = 3.14159;\n",
    "element.append(PI); // Output: 3.14159"
   ]
  },
  {
   "cell_type": "markdown",
   "metadata": {},
   "source": [
    "## 2. Data Types\n",
    "\n",
    "JavaScript supports various data types, including numbers, strings, booleans, objects, arrays, and more.\n",
    "\n",
    "### Numbers:\n",
    "- Used to represent numeric values.\n",
    "- JavaScript supports both integers and floating-point numbers.\n",
    "- Example:\n"
   ]
  },
  {
   "cell_type": "code",
   "execution_count": 10,
   "metadata": {},
   "outputs": [
    {
     "data": {
      "application/javascript": [
       "\n",
       "let age = 25;\n",
       "let price = 19.99;\n",
       "\n",
       "element.append(age);\n",
       "element.append(document.createElement(\"br\"));\n",
       "element.append(price);\n"
      ],
      "text/plain": [
       "<IPython.core.display.Javascript object>"
      ]
     },
     "metadata": {},
     "output_type": "display_data"
    }
   ],
   "source": [
    "%%js\n",
    "\n",
    "let age = 25;\n",
    "let price = 19.99;\n",
    "\n",
    "element.append(age);\n",
    "element.append(document.createElement(\"br\"));\n",
    "element.append(price);"
   ]
  },
  {
   "cell_type": "markdown",
   "metadata": {},
   "source": [
    "### Strings:\n",
    "\n",
    "- Used to represent textual data.\n",
    "- Enclosed in single quotes (') or double quotes (\").\n",
    "- Escape characters (\\) can be used to include special characters within a string.\n",
    "- Example:"
   ]
  },
  {
   "cell_type": "code",
   "execution_count": 12,
   "metadata": {},
   "outputs": [
    {
     "data": {
      "application/javascript": [
       "\n",
       "let name = \"Tanay Patel\";\n",
       "let message = 'I\\'m learning JS';\n",
       "\n",
       "element.append(name);\n",
       "element.append(document.createElement(\"br\"));\n",
       "element.append(message);\n"
      ],
      "text/plain": [
       "<IPython.core.display.Javascript object>"
      ]
     },
     "metadata": {},
     "output_type": "display_data"
    }
   ],
   "source": [
    "%%js\n",
    "\n",
    "let name = \"Tanay Patel\";\n",
    "let message = 'I\\'m learning JS';\n",
    "\n",
    "element.append(name);\n",
    "element.append(document.createElement(\"br\"));\n",
    "element.append(message);"
   ]
  },
  {
   "cell_type": "markdown",
   "metadata": {},
   "source": [
    "### Booleans:\n",
    "\n",
    "- Used to represent logical values, either true or false.\n",
    "- Often used in conditional statements and comparisons.\n",
    "- Example:"
   ]
  },
  {
   "cell_type": "code",
   "execution_count": 19,
   "metadata": {},
   "outputs": [
    {
     "data": {
      "application/javascript": [
       "\n",
       "let isTrue = true;\n",
       "element.append(isTrue);\n"
      ],
      "text/plain": [
       "<IPython.core.display.Javascript object>"
      ]
     },
     "metadata": {},
     "output_type": "display_data"
    }
   ],
   "source": [
    "%%js\n",
    "\n",
    "let isTrue = true;\n",
    "element.append(isTrue);"
   ]
  },
  {
   "cell_type": "markdown",
   "metadata": {},
   "source": [
    "### Objects:\n",
    "- Used to represent complex data structures.\n",
    "- Consist of key-value pairs, where the key is a string and the value can be of any data type, including other objects and functions.\n",
    "- Example:"
   ]
  },
  {
   "cell_type": "code",
   "execution_count": 24,
   "metadata": {},
   "outputs": [
    {
     "data": {
      "application/javascript": [
       "\n",
       "let person = {\n",
       "  name: \"Tanay\",\n",
       "  age: 15,\n",
       "  greet: function() {\n",
       "    element.append(\"Hello, my name is \" + this.name);\n",
       "  }\n",
       "};\n",
       "\n",
       "person.greet();\n"
      ],
      "text/plain": [
       "<IPython.core.display.Javascript object>"
      ]
     },
     "metadata": {},
     "output_type": "display_data"
    }
   ],
   "source": [
    "%%js\n",
    "\n",
    "let person = {\n",
    "  name: \"Tanay\",\n",
    "  age: 15,\n",
    "  greet: function() {\n",
    "    element.append(\"Hello, my name is \" + this.name);\n",
    "  }\n",
    "};\n",
    "\n",
    "person.greet();"
   ]
  },
  {
   "cell_type": "markdown",
   "metadata": {},
   "source": [
    "### Arrays:\n",
    "\n",
    "- Used to store multiple values in a single variable.\n",
    "- Can hold values of any data type and can be dynamically resized.\n",
    "- Accessed using zero-based index.\n",
    "- Example:"
   ]
  },
  {
   "cell_type": "code",
   "execution_count": 27,
   "metadata": {},
   "outputs": [
    {
     "data": {
      "application/javascript": [
       "\n",
       "let numbers = [1, 2, 3, 4, 5];\n",
       "element.append(numbers[0]);\n",
       "\n",
       "numbers.push(6); // Add an element to the end of the array\n",
       "element.append(document.createElement(\"br\"));\n",
       "element.append(numbers);\n"
      ],
      "text/plain": [
       "<IPython.core.display.Javascript object>"
      ]
     },
     "metadata": {},
     "output_type": "display_data"
    }
   ],
   "source": [
    "%%js\n",
    "\n",
    "let numbers = [1, 2, 3, 4, 5];\n",
    "element.append(numbers[0]);\n",
    "\n",
    "numbers.push(6); // Add an element to the end of the array\n",
    "element.append(document.createElement(\"br\"));\n",
    "element.append(numbers);"
   ]
  },
  {
   "cell_type": "markdown",
   "metadata": {},
   "source": [
    "## 3. Operators\n",
    "\n",
    "JavaScript provides various operators for performing different operations, such as arithmetic, assignment, comparison, and logical operations.\n",
    "\n",
    "### Arithmetic Operators:\n",
    " - Used to perform arithmetic operations on numeric values.\n",
    " - Examples: + (addition), - (subtraction), * (multiplication), / (division), % (remainder), ++ (increment), -- (decrement).\n",
    "### Assignment Operators:\n",
    "- Used to assign values to variables.\n",
    "- Examples: =, +=, -=, *=, /=, %=.\n",
    "### Comparison Operators:\n",
    "- Used to compare values and return a boolean result (true or false).\n",
    "- Examples: == (equal to), != (not equal to), === (strict equal to), !== (strict not equal to), > (greater than), < (less than), >= (greater than or equal to), <= (less than or equal to).\n",
    "### Logical Operators:\n",
    "- Used to combine or manipulate boolean values.\n",
    "- Examples: && (logical AND), || (logical OR), ! (logical NOT).\n",
    "\n",
    "[Link to complete guide on operators](https://developer.mozilla.org/en-US/docs/Web/JavaScript/Guide/Expressions_and_Operators)"
   ]
  },
  {
   "cell_type": "markdown",
   "metadata": {},
   "source": [
    "## 4. Control Structures\n",
    "\n",
    "JavaScript provides control structures like conditional statements (if, else if, else) and loops (for, while, do-while) to control the flow of execution.\n",
    "\n",
    "### Conditional Statements:\n",
    "- Used to execute different blocks of code based on certain conditions.\n",
    "- Example:"
   ]
  },
  {
   "cell_type": "code",
   "execution_count": 34,
   "metadata": {},
   "outputs": [
    {
     "data": {
      "application/javascript": [
       "\n",
       "let hour = 17;\n",
       "\n",
       "if (hour < 12) {\n",
       "    element.append(\"Good morning!\");\n",
       "    element.append(document.createElement(\"br\"));\n",
       "} else if (hour < 18) {\n",
       "    element.append(\"Good afternoon!\");\n",
       "    element.append(document.createElement(\"br\"));\n",
       "} else {\n",
       "    element.append(\"Good evening!\");\n",
       "}\n"
      ],
      "text/plain": [
       "<IPython.core.display.Javascript object>"
      ]
     },
     "metadata": {},
     "output_type": "display_data"
    }
   ],
   "source": [
    "%%js\n",
    "\n",
    "let hour = 17;\n",
    "\n",
    "if (hour < 12) {\n",
    "    element.append(\"Good morning!\");\n",
    "    element.append(document.createElement(\"br\"));\n",
    "} else if (hour < 18) {\n",
    "    element.append(\"Good afternoon!\");\n",
    "    element.append(document.createElement(\"br\"));\n",
    "} else {\n",
    "    element.append(\"Good evening!\");\n",
    "}"
   ]
  },
  {
   "cell_type": "markdown",
   "metadata": {},
   "source": [
    "### Loops:\n",
    "- Used to repeatedly execute a block of code until a condition is met.\n",
    "- Examples: for loop, while loop, do-while loop."
   ]
  },
  {
   "cell_type": "code",
   "execution_count": 46,
   "metadata": {},
   "outputs": [
    {
     "data": {
      "application/javascript": [
       "\n",
       "for (let i = 0; i < 5; i++) {\n",
       "  element.append(i);\n",
       "  element.append(document.createElement(\"br\"));\n",
       "}\n"
      ],
      "text/plain": [
       "<IPython.core.display.Javascript object>"
      ]
     },
     "metadata": {},
     "output_type": "display_data"
    }
   ],
   "source": [
    "%%js\n",
    "\n",
    "for (let i = 0; i < 5; i++) {\n",
    "  element.append(i);\n",
    "  element.append(document.createElement(\"br\"));\n",
    "}"
   ]
  },
  {
   "cell_type": "code",
   "execution_count": 47,
   "metadata": {},
   "outputs": [
    {
     "data": {
      "application/javascript": [
       "\n",
       "let i = 0; \n",
       "while (i < 5) {\n",
       "  element.append(i);\n",
       "  element.append(document.createElement(\"br\"));\n",
       "  i++;\n",
       "}\n"
      ],
      "text/plain": [
       "<IPython.core.display.Javascript object>"
      ]
     },
     "metadata": {},
     "output_type": "display_data"
    }
   ],
   "source": [
    "%%js\n",
    "\n",
    "let i = 0; \n",
    "while (i < 5) {\n",
    "  element.append(i);\n",
    "  element.append(document.createElement(\"br\"));\n",
    "  i++;\n",
    "}"
   ]
  },
  {
   "cell_type": "code",
   "execution_count": 48,
   "metadata": {},
   "outputs": [
    {
     "data": {
      "application/javascript": [
       "\n",
       "let i = 0;\n",
       "do {\n",
       "  element.append(i);\n",
       "  element.append(document.createElement(\"br\"));\n",
       "  i++;\n",
       "} while (i < 5);\n"
      ],
      "text/plain": [
       "<IPython.core.display.Javascript object>"
      ]
     },
     "metadata": {},
     "output_type": "display_data"
    }
   ],
   "source": [
    "%%js\n",
    "\n",
    "let i = 0;\n",
    "do {\n",
    "  element.append(i);\n",
    "  element.append(document.createElement(\"br\"));\n",
    "  i++;\n",
    "} while (i < 5);"
   ]
  },
  {
   "cell_type": "markdown",
   "metadata": {},
   "source": [
    "## 5. Functions\n",
    "\n",
    "Functions in JavaScript allow you to group and reuse blocks of code. They can take parameters and return values.\n",
    "\n",
    "### Function Declaration:\n",
    "- Used to define a named function.\n",
    "- Example:"
   ]
  },
  {
   "cell_type": "code",
   "execution_count": 49,
   "metadata": {},
   "outputs": [
    {
     "data": {
      "application/javascript": [
       "\n",
       "function greet(name) {\n",
       "  return \"Hello, \" + name;\n",
       "}\n",
       "\n",
       "let greeting = greet(\"Tanay\");\n",
       "element.append(greeting);\n"
      ],
      "text/plain": [
       "<IPython.core.display.Javascript object>"
      ]
     },
     "metadata": {},
     "output_type": "display_data"
    }
   ],
   "source": [
    "%%js\n",
    "\n",
    "function greet(name) {\n",
    "  return \"Hello, \" + name;\n",
    "}\n",
    "\n",
    "let greeting = greet(\"Tanay\");\n",
    "element.append(greeting);"
   ]
  },
  {
   "cell_type": "markdown",
   "metadata": {},
   "source": [
    "### Anonymous Functions:\n",
    "- Functions without a name, often assigned to a variable.\n",
    "- Example:"
   ]
  },
  {
   "cell_type": "code",
   "execution_count": 53,
   "metadata": {},
   "outputs": [
    {
     "data": {
      "application/javascript": [
       "\n",
       "let add = function(a, b) {\n",
       "  element.append(a + b);\n",
       "};\n"
      ],
      "text/plain": [
       "<IPython.core.display.Javascript object>"
      ]
     },
     "metadata": {},
     "output_type": "display_data"
    }
   ],
   "source": [
    "%%js\n",
    "\n",
    "let add = function(a, b) {\n",
    "  element.append(a + b);\n",
    "};"
   ]
  },
  {
   "cell_type": "markdown",
   "metadata": {},
   "source": [
    "### Arrow Functions:\n",
    "- A concise syntax for writing functions.\n",
    "- Example:"
   ]
  },
  {
   "cell_type": "code",
   "execution_count": 54,
   "metadata": {},
   "outputs": [
    {
     "data": {
      "application/javascript": [
       "\n",
       "let multiply = (a, b) => a * b;\n"
      ],
      "text/plain": [
       "<IPython.core.display.Javascript object>"
      ]
     },
     "metadata": {},
     "output_type": "display_data"
    }
   ],
   "source": [
    "%%js\n",
    "\n",
    "let multiply = (a, b) => a * b;"
   ]
  },
  {
   "cell_type": "markdown",
   "metadata": {},
   "source": [
    "## 6. Objects\n",
    "\n",
    "Objects are a fundamental part of JavaScript. They are collections of key-value pairs, and the values can be of any data type, including other objects and functions.\n",
    "\n",
    "### Object Literal:\n",
    "- A way to define an object using curly braces {}.\n",
    "- Example:"
   ]
  },
  {
   "cell_type": "code",
   "execution_count": 56,
   "metadata": {},
   "outputs": [
    {
     "data": {
      "application/javascript": [
       "\n",
       "let person = {\n",
       "  name: \"Tanay\",\n",
       "  age: 15,\n",
       "  greet: function() {\n",
       "    element.append(\"Hello, my name is \" + this.name);\n",
       "  }\n",
       "};\n",
       "\n",
       "person.greet();\n"
      ],
      "text/plain": [
       "<IPython.core.display.Javascript object>"
      ]
     },
     "metadata": {},
     "output_type": "display_data"
    }
   ],
   "source": [
    "%%js\n",
    "\n",
    "let person = {\n",
    "  name: \"Tanay\",\n",
    "  age: 15,\n",
    "  greet: function() {\n",
    "    element.append(\"Hello, my name is \" + this.name);\n",
    "  }\n",
    "};\n",
    "\n",
    "person.greet();"
   ]
  },
  {
   "cell_type": "markdown",
   "metadata": {},
   "source": [
    "### Constructor Function:\n",
    "- A function used to create objects.\n",
    "- Example:"
   ]
  },
  {
   "cell_type": "code",
   "execution_count": 58,
   "metadata": {},
   "outputs": [
    {
     "data": {
      "application/javascript": [
       "\n",
       "function Car(brand, model) {\n",
       "  this.brand = brand;\n",
       "  this.model = model;\n",
       "}\n",
       "\n",
       "let myCar = new Car(\"Honda\", \"Civic\");\n",
       "element.append(myCar.brand + \" \" + myCar.model);\n"
      ],
      "text/plain": [
       "<IPython.core.display.Javascript object>"
      ]
     },
     "metadata": {},
     "output_type": "display_data"
    }
   ],
   "source": [
    "%%js\n",
    "\n",
    "function Car(brand, model) {\n",
    "  this.brand = brand;\n",
    "  this.model = model;\n",
    "}\n",
    "\n",
    "let myCar = new Car(\"Honda\", \"Civic\");\n",
    "element.append(myCar.brand + \" \" + myCar.model);"
   ]
  },
  {
   "cell_type": "markdown",
   "metadata": {},
   "source": [
    "## 7. Arrays\n",
    "\n",
    "Arrays in JavaScript allow you to store multiple values in a single variable. They can hold values of any data type and can be dynamically resized.\n",
    "\n",
    "### Array Declaration:\n",
    "- An array can be declared using square brackets [] and can hold any number of elements.\n",
    "- Example:"
   ]
  },
  {
   "cell_type": "code",
   "execution_count": 65,
   "metadata": {},
   "outputs": [
    {
     "data": {
      "application/javascript": [
       "\n",
       "let numbers = [1, 2, 3, 4, 5];\n",
       "element.append(numbers[3]);\n"
      ],
      "text/plain": [
       "<IPython.core.display.Javascript object>"
      ]
     },
     "metadata": {},
     "output_type": "display_data"
    }
   ],
   "source": [
    "%%js\n",
    "\n",
    "let numbers = [1, 2, 3, 4, 5];\n",
    "element.append(numbers[3]);"
   ]
  },
  {
   "cell_type": "markdown",
   "metadata": {},
   "source": [
    "### Array Methods:\n",
    "- Arrays have built-in methods to manipulate and access their elements, such as push(), pop(), shift(), unshift(), slice(), splice(), and more.\n",
    "- Example:"
   ]
  },
  {
   "cell_type": "code",
   "execution_count": 67,
   "metadata": {},
   "outputs": [
    {
     "data": {
      "application/javascript": [
       "\n",
       "let numbers = [1, 2, 3, 4, 5];\n",
       "numbers.push(6);\n",
       "element.append(numbers);\n"
      ],
      "text/plain": [
       "<IPython.core.display.Javascript object>"
      ]
     },
     "metadata": {},
     "output_type": "display_data"
    }
   ],
   "source": [
    "%%js\n",
    "\n",
    "let numbers = [1, 2, 3, 4, 5];\n",
    "numbers.push(6);\n",
    "element.append(numbers);"
   ]
  },
  {
   "cell_type": "markdown",
   "metadata": {},
   "source": [
    "## 8. Events and DOM Manipulation\n",
    "\n",
    "JavaScript can interact with the Document Object Model (DOM) to manipulate HTML elements and respond to user events.\n",
    "\n",
    "### DOM Manipulation:\n",
    "- JavaScript provides methods and properties to access and manipulate HTML elements.\n",
    "- Example:"
   ]
  },
  {
   "cell_type": "code",
   "execution_count": 69,
   "metadata": {},
   "outputs": [
    {
     "data": {
      "text/html": [
       "\n",
       "<!DOCTYPE html>\n",
       "<html>\n",
       "<head>\n",
       "  <title>DOM Manipulation Example</title>\n",
       "  <style>\n",
       "    #myElement {\n",
       "      width: 200px;\n",
       "      height: 200px;\n",
       "    }\n",
       "  </style>\n",
       "</head>\n",
       "<body>\n",
       "  <div id=\"myElement\"></div>\n",
       "  <script>\n",
       "    // JavaScript code\n",
       "    let element = document.getElementById(\"myElement\");\n",
       "    element.style.backgroundColor = \"red\";\n",
       "  </script>\n",
       "</body>\n",
       "</html>\n"
      ],
      "text/plain": [
       "<IPython.core.display.HTML object>"
      ]
     },
     "metadata": {},
     "output_type": "display_data"
    }
   ],
   "source": [
    "%%html\n",
    "\n",
    "<!DOCTYPE html>\n",
    "<html>\n",
    "<head>\n",
    "  <title>DOM Manipulation Example</title>\n",
    "  <style>\n",
    "    #myElement {\n",
    "      width: 200px;\n",
    "      height: 200px;\n",
    "    }\n",
    "  </style>\n",
    "</head>\n",
    "<body>\n",
    "  <div id=\"myElement\"></div>\n",
    "  <script>\n",
    "    // JavaScript code\n",
    "    let element = document.getElementById(\"myElement\");\n",
    "    element.style.backgroundColor = \"red\";\n",
    "  </script>\n",
    "</body>\n",
    "</html>"
   ]
  },
  {
   "cell_type": "markdown",
   "metadata": {},
   "source": [
    "### Event Handling:\n",
    "- JavaScript allows you to attach event handlers to HTML elements to respond to user actions.\n",
    "- Example:"
   ]
  },
  {
   "cell_type": "code",
   "execution_count": 87,
   "metadata": {
    "scrolled": true
   },
   "outputs": [
    {
     "data": {
      "text/html": [
       "\n",
       "<!DOCTYPE html>\n",
       "<html>\n",
       "<head>\n",
       "  <title>DOM Manipulation Example</title>\n",
       "  <style>\n",
       "    #myElement {\n",
       "      width: 200px;\n",
       "      height: 200px;\n",
       "    }\n",
       "    #myButton {\n",
       "      width: 100px;\n",
       "      height: 30px;\n",
       "    }\n",
       "  </style>\n",
       "</head>\n",
       "<body>\n",
       "  <div id=\"myElement\"></div>\n",
       "  <button id=\"myButton\">Click Me</button>\n",
       "  <script>\n",
       "      // Create the div element\n",
       "      const divElement = document.createElement(\"div\");\n",
       "      divElement.id = \"myElement\";\n",
       "      divElement.style.width = \"200px\";\n",
       "      divElement.style.height = \"200px\";\n",
       "\n",
       "      // Create the button element\n",
       "      const buttonElement = document.createElement(\"button\");\n",
       "      buttonElement.id = \"myButton\";\n",
       "      buttonElement.style.width = \"70px\";\n",
       "      buttonElement.style.height = \"30px\";\n",
       "      buttonElement.textContent = \"Click Me\";\n",
       "\n",
       "      // Function to handle button click\n",
       "      function handleClick() {\n",
       "        divElement.textContent = \"Button clicked!\";\n",
       "      }\n",
       "\n",
       "      // Add event listener to the button\n",
       "      buttonElement.addEventListener(\"click\", handleClick);\n",
       "\n",
       "      // Display the elements in the notebook output\n",
       "      const displayElement = document.createElement(\"div\");\n",
       "      displayElement.appendChild(divElement);\n",
       "      displayElement.appendChild(buttonElement);\n",
       "      const displayOutput = document.createElement(\"script\");\n",
       "      displayOutput.textContent = `document.body.appendChild(${JSON.stringify(displayElement)})`;\n",
       "      displayOutput.type = \"text/javascript\";\n",
       "      document.head.appendChild(displayOutput);\n",
       "  </script>\n",
       "</body>\n",
       "</html>\n"
      ],
      "text/plain": [
       "<IPython.core.display.HTML object>"
      ]
     },
     "metadata": {},
     "output_type": "display_data"
    }
   ],
   "source": [
    "%%html\n",
    "\n",
    "<!DOCTYPE html>\n",
    "<html>\n",
    "<head>\n",
    "  <title>DOM Manipulation Example</title>\n",
    "  <style>\n",
    "    #myElement {\n",
    "      width: 200px;\n",
    "      height: 200px;\n",
    "    }\n",
    "    #myButton {\n",
    "      width: 100px;\n",
    "      height: 30px;\n",
    "    }\n",
    "  </style>\n",
    "</head>\n",
    "<body>\n",
    "  <div id=\"myElement\"></div>\n",
    "  <button id=\"myButton\">Click Me</button>\n",
    "  <script>\n",
    "      // Create the div element\n",
    "      const divElement = document.createElement(\"div\");\n",
    "      divElement.id = \"myElement\";\n",
    "      divElement.style.width = \"200px\";\n",
    "      divElement.style.height = \"200px\";\n",
    "\n",
    "      // Create the button element\n",
    "      const buttonElement = document.createElement(\"button\");\n",
    "      buttonElement.id = \"myButton\";\n",
    "      buttonElement.style.width = \"70px\";\n",
    "      buttonElement.style.height = \"30px\";\n",
    "      buttonElement.textContent = \"Click Me\";\n",
    "\n",
    "      // Function to handle button click\n",
    "      function handleClick() {\n",
    "        divElement.textContent = \"Button clicked!\";\n",
    "      }\n",
    "\n",
    "      // Add event listener to the button\n",
    "      buttonElement.addEventListener(\"click\", handleClick);\n",
    "\n",
    "      // Display the elements in the notebook output\n",
    "      const displayElement = document.createElement(\"div\");\n",
    "      displayElement.appendChild(divElement);\n",
    "      displayElement.appendChild(buttonElement);\n",
    "      const displayOutput = document.createElement(\"script\");\n",
    "      displayOutput.textContent = `document.body.appendChild(${JSON.stringify(displayElement)})`;\n",
    "      displayOutput.type = \"text/javascript\";\n",
    "      document.head.appendChild(displayOutput);\n",
    "  </script>\n",
    "</body>\n",
    "</html>"
   ]
  },
  {
   "cell_type": "code",
   "execution_count": 104,
   "metadata": {},
   "outputs": [
    {
     "data": {
      "application/javascript": [
       "\n",
       "<!DOCTYPE html>\n",
       "<html>\n",
       "<head>\n",
       "  <title>Jumping Animation</title>\n",
       "  <style>\n",
       "    #animationContainer {\n",
       "      width: 100px;\n",
       "      height: 100px;\n",
       "      border: 1px solid black;\n",
       "      display: flex;\n",
       "      justify-content: center;\n",
       "      align-items: flex-end;\n",
       "      font-family: monospace;\n",
       "      font-size: 16px;\n",
       "    }\n",
       "  </style>\n",
       "</head>\n",
       "<body>\n",
       "  <div id=\"animationContainer\">(O)<br>|<br>/ \\</div>\n",
       "  <script>\n",
       "    function animateJump() {\n",
       "      const animationContainer = document.getElementById(\"animationContainer\");\n",
       "      const frames = [\n",
       "        \"(O)<br>|<br>/ \\\\\", // Frame 1\n",
       "        \"\\\\O/<br>|<br>/ \\\\\", // Frame 2\n",
       "        \" O<br>/|\\\\<br>/ \\\\\", // Frame 3\n",
       "        \" O<br>/|\\\\<br>/ \\\\\", // Frame 4\n",
       "        \"(O)<br>|<br>/ \\\\\"  // Frame 5\n",
       "      ];\n",
       "\n",
       "      let currentFrame = 0;\n",
       "      animationContainer.innerHTML = frames[currentFrame];\n",
       "      currentFrame++;\n",
       "\n",
       "      const interval = setInterval(function() {\n",
       "        animationContainer.innerHTML = frames[currentFrame % frames.length];\n",
       "        currentFrame++;\n",
       "      }, 500);\n",
       "\n",
       "      setTimeout(function() {\n",
       "        clearInterval(interval);\n",
       "        animationContainer.innerHTML = frames[0] + \"<br>Animation complete!\";\n",
       "      }, 3000);\n",
       "    }\n",
       "\n",
       "    animateJump();\n",
       "  </script>\n",
       "</body>\n",
       "</html>\n"
      ],
      "text/plain": [
       "<IPython.core.display.Javascript object>"
      ]
     },
     "metadata": {},
     "output_type": "display_data"
    }
   ],
   "source": [
    "%%js\n",
    "\n",
    "<!DOCTYPE html>\n",
    "<html>\n",
    "<head>\n",
    "  <title>Jumping Animation</title>\n",
    "  <style>\n",
    "    #animationContainer {\n",
    "      width: 100px;\n",
    "      height: 100px;\n",
    "      border: 1px solid black;\n",
    "      display: flex;\n",
    "      justify-content: center;\n",
    "      align-items: flex-end;\n",
    "      font-family: monospace;\n",
    "      font-size: 16px;\n",
    "    }\n",
    "  </style>\n",
    "</head>\n",
    "<body>\n",
    "  <div id=\"animationContainer\">(O)<br>|<br>/ \\</div>\n",
    "  <script>\n",
    "    function animateJump() {\n",
    "      const animationContainer = document.getElementById(\"animationContainer\");\n",
    "      const frames = [\n",
    "        \"(O)<br>|<br>/ \\\\\", // Frame 1\n",
    "        \"\\\\O/<br>|<br>/ \\\\\", // Frame 2\n",
    "        \" O<br>/|\\\\<br>/ \\\\\", // Frame 3\n",
    "        \" O<br>/|\\\\<br>/ \\\\\", // Frame 4\n",
    "        \"(O)<br>|<br>/ \\\\\"  // Frame 5\n",
    "      ];\n",
    "\n",
    "      let currentFrame = 0;\n",
    "      animationContainer.innerHTML = frames[currentFrame];\n",
    "      currentFrame++;\n",
    "\n",
    "      const interval = setInterval(function() {\n",
    "        animationContainer.innerHTML = frames[currentFrame % frames.length];\n",
    "        currentFrame++;\n",
    "      }, 500);\n",
    "\n",
    "      setTimeout(function() {\n",
    "        clearInterval(interval);\n",
    "        animationContainer.innerHTML = frames[0] + \"<br>Animation complete!\";\n",
    "      }, 3000);\n",
    "    }\n",
    "\n",
    "    animateJump();\n",
    "  </script>\n",
    "</body>\n",
    "</html>"
   ]
  },
  {
   "cell_type": "code",
   "execution_count": null,
   "metadata": {},
   "outputs": [],
   "source": []
  },
  {
   "cell_type": "code",
   "execution_count": null,
   "metadata": {},
   "outputs": [],
   "source": []
  }
 ],
 "metadata": {
  "kernelspec": {
   "display_name": "Python 3 (ipykernel)",
   "language": "python",
   "name": "python3"
  },
  "language_info": {
   "codemirror_mode": {
    "name": "ipython",
    "version": 3
   },
   "file_extension": ".py",
   "mimetype": "text/x-python",
   "name": "python",
   "nbconvert_exporter": "python",
   "pygments_lexer": "ipython3",
   "version": "3.9.13"
  }
 },
 "nbformat": 4,
 "nbformat_minor": 2
}
