{
 "cells": [
  {
   "cell_type": "markdown",
   "metadata": {},
   "source": [
    "# \"Python Quiz\"\n",
    "> \"Try your luck in this NBA themed quiz!\"\n",
    "\n",
    "- toc:true\n",
    "- branch: master\n",
    "- badges: true\n",
    "- comments: true\n",
    "- author: Tanay Patel\n",
    "- categories: [quiz]\n",
    "- image: images/Python-Logo.png"
   ]
  },
  {
   "cell_type": "code",
   "execution_count": 4,
   "metadata": {},
   "outputs": [
    {
     "name": "stdout",
     "output_type": "stream",
     "text": [
      "Question: Bill Russel has won the most NBA championships in history. How many championships has he won?\n",
      "11 is correct!\n",
      "Question: What was the last year that the Sacramento Kings made the playoffs?\n",
      "2006 is correct!\n",
      "Question: Which player holds the record for the most points in a single game?\n",
      "Wilt Chamberlain is correct!\n",
      "Question: Which NBA player holds the all-time record for the most total assists?\n",
      "John Stockton is correct!\n",
      "patel you scored 4/4\n"
     ]
    }
   ],
   "source": [
    "import getpass, sys\n",
    "\n",
    "def question_with_response(prompt):\n",
    "    print(\"Question: \" + prompt)\n",
    "    msg = input()\n",
    "    return msg\n",
    "\n",
    "questions = 4\n",
    "correct = 0\n",
    "\n",
    "def question_with_response(prompt):\n",
    "    print(\"Question: \" + prompt)\n",
    "    msg = input()\n",
    "    return msg\n",
    "\n",
    "rsp = question_with_response(\"Bill Russel has won the most NBA championships in history. How many championships has he won?\")\n",
    "if rsp == \"11\":\n",
    "    print(rsp + \" is correct!\")\n",
    "    correct += 1\n",
    "else:\n",
    "    print(rsp + \" is incorrect!\")\n",
    "\n",
    "rsp = question_with_response(\"What was the last year that the Sacramento Kings made the playoffs?\")\n",
    "if rsp == \"2006\":\n",
    "    print(rsp + \" is correct!\")\n",
    "    correct += 1\n",
    "else:\n",
    "    print(rsp + \" is incorrect!\")\n",
    "\n",
    "rsp = question_with_response(\"Which player holds the record for the most points in a single game?\")\n",
    "if rsp == \"Wilt Chamberlain\":\n",
    "    print(rsp + \" is correct!\")\n",
    "    correct += 1\n",
    "else:\n",
    "    print(rsp + \" is incorrect!\")\n",
    "\n",
    "rsp = question_with_response(\"Which NBA player holds the all-time record for the most total assists?\")\n",
    "if rsp == \"John Stockton\":\n",
    "    print(rsp + \" is correct!\")\n",
    "    correct += 1\n",
    "else:\n",
    "    print(rsp + \" is incorrect!\")\n",
    "\n",
    "print(getpass.getuser() + \" you scored \" + str(correct) +\"/\" + str(questions))"
   ]
  }
 ],
 "metadata": {
  "kernelspec": {
   "display_name": "Python 3.10.6 64-bit (windows store)",
   "language": "python",
   "name": "python3"
  },
  "language_info": {
   "codemirror_mode": {
    "name": "ipython",
    "version": 3
   },
   "file_extension": ".py",
   "mimetype": "text/x-python",
   "name": "python",
   "nbconvert_exporter": "python",
   "pygments_lexer": "ipython3",
   "version": "3.10.6"
  },
  "orig_nbformat": 4,
  "vscode": {
   "interpreter": {
    "hash": "af8237fa8f5d72d06fa67d2858fc64de9f88eb698b71c99b153056ef23b55796"
   }
  }
 },
 "nbformat": 4,
 "nbformat_minor": 2
}
