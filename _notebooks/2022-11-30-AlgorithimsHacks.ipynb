{
 "cells": [
  {
   "cell_type": "markdown",
   "metadata": {},
   "source": [
    "# Unit 3 Sections 3-4\n",
    "> Welcome to my Fibonacci Sequence Algorithm\n",
    "\n",
    "- title: Algorithm Hacks\n",
    "- toc: false\n",
    "- badges: false\n",
    "- categories: [notebook]"
   ]
  },
  {
   "cell_type": "code",
   "execution_count": 1,
   "metadata": {},
   "outputs": [
    {
     "name": "stdout",
     "output_type": "stream",
     "text": [
      "You selected 9 terms.\n",
      "Fibonacci sequence from term 1 to term 9:\n",
      "0\n",
      "1\n",
      "1\n",
      "2\n",
      "3\n",
      "5\n",
      "8\n",
      "13\n",
      "21\n"
     ]
    }
   ],
   "source": [
    "terms = int(input(\"How many terms do you need of the Fibonacci sequence?\"))\n",
    "\n",
    "# These two terms will be reused to print as many terms as needed\n",
    "number = 0\n",
    "digit = 1\n",
    "# count will help me make sure that the selected number of terms will be printed\n",
    "count = 0\n",
    "\n",
    "# check if the input to \"terms\" is able to be used\n",
    "if terms <= 0:\n",
    "   print(\"Please enter a positive integer\")\n",
    "else:\n",
    "    print(f\"You selected {terms} terms.\")\n",
    "    print(f\"Fibonacci sequence from term 1 to term {terms}:\")\n",
    "    while count < terms:\n",
    "        print(number)\n",
    "        placeholder = number + digit\n",
    "        number = digit\n",
    "        digit = placeholder\n",
    "        count += 1"
   ]
  }
 ],
 "metadata": {
  "kernelspec": {
   "display_name": "Python 3.9.12 ('base')",
   "language": "python",
   "name": "python3"
  },
  "language_info": {
   "codemirror_mode": {
    "name": "ipython",
    "version": 3
   },
   "file_extension": ".py",
   "mimetype": "text/x-python",
   "name": "python",
   "nbconvert_exporter": "python",
   "pygments_lexer": "ipython3",
   "version": "3.9.12"
  },
  "orig_nbformat": 4,
  "vscode": {
   "interpreter": {
    "hash": "b792a976fef0b417357a8dccde0bb21ed37e3144aa928915426759a361f9129e"
   }
  }
 },
 "nbformat": 4,
 "nbformat_minor": 2
}
